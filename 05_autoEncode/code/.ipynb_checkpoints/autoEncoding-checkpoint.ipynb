{
 "cells": [
  {
   "cell_type": "code",
   "execution_count": 57,
   "metadata": {},
   "outputs": [],
   "source": [
    "# -*- coding = utf-8 -*-\n",
    "from keras.datasets import mnist\n",
    "import numpy as np"
   ]
  },
  {
   "cell_type": "code",
   "execution_count": 58,
   "metadata": {},
   "outputs": [
    {
     "data": {
      "text/plain": [
       "'/home/tf/dl_fun/05_autoEncode/code'"
      ]
     },
     "execution_count": 58,
     "metadata": {},
     "output_type": "execute_result"
    }
   ],
   "source": [
    "%pwd \n",
    "# %cp /home/Downloads/mnist.npz /home/tf/dl_fun/05_autoEncode/data/mnist.npz"
   ]
  },
  {
   "cell_type": "code",
   "execution_count": 59,
   "metadata": {},
   "outputs": [],
   "source": [
    "# (x_train, _),(x_test ,_ ) = mnist.load_data()\n",
    "f = np.load('/home/tf/dl_fun/05_autoEncode/data/mnist.npz')\n",
    "x_train,x_test = f['x_train'] , f['x_test']\n",
    "# x_train , x_test"
   ]
  },
  {
   "cell_type": "code",
   "execution_count": 60,
   "metadata": {},
   "outputs": [],
   "source": [
    "x_train = x_train.astype('float32')/255.\n",
    "x_test = x_test.astype('float32')/255.\n",
    "x_train = np.reshape(x_train , (len(x_train) , 28 , 28 , 1))\n",
    "x_test = np.reshape(x_test , (len(x_test) , 28 , 28 ,  1))"
   ]
  },
  {
   "cell_type": "code",
   "execution_count": 61,
   "metadata": {},
   "outputs": [],
   "source": [
    "noise_factor = 0.5\n",
    "x_train_noise = x_train + noise_factor * np.random.normal(loc = 0 , scale = 1 , size = x_train.shape)\n",
    "x_test_noise = x_test + noise_factor * np.random.normal(loc = 0 , scale = 1 , size = x_test.shape)\n",
    "x_train_noise = np.clip(x_train_noise , 0., 1.)\n",
    "x_test_noise = np.clip(x_test_noise , 0. , 1.)"
   ]
  },
  {
   "cell_type": "code",
   "execution_count": 65,
   "metadata": {},
   "outputs": [
    {
     "data": {
      "image/png": "[encoded data removed]",
      "text/plain": [
       "<Figure size 1440x144 with 10 Axes>"
      ]
     },
     "metadata": {
      "needs_background": "light"
     },
     "output_type": "display_data"
    }
   ],
   "source": [
    "import matplotlib.pyplot as plt\n",
    "%matplotlib inline\n",
    "n = 10\n",
    "\n",
    "plt.figure(figsize = (20 , 2))\n",
    "for i in range(n):\n",
    "    ax = plt.subplot(1 , n , i+1)\n",
    "    plt.imshow(x_test_noise[i].reshape(28 , 28))\n",
    "    plt.gray()\n",
    "    ax.get_xaxis().set_visible(False)\n",
    "    ax.get_yaxis().set_visible(False) \n"
   ]
  },
  {
   "cell_type": "code",
   "execution_count": 31,
   "metadata": {},
   "outputs": [],
   "source": [
    "from keras.layers import Input , Conv2D , MaxPooling2D ,UpSampling2D\n",
    "from keras.models import Model ,load_model"
   ]
  },
  {
   "cell_type": "code",
   "execution_count": 66,
   "metadata": {},
   "outputs": [],
   "source": [
    "image_input = Input(shape = (28 , 28 , 1 ,))\n",
    "x = Conv2D(32 , (3 , 3) , padding = 'same' , activation='relu')(image_input) # N*28*28*32\n",
    "x = MaxPooling2D(pool_size=(2,2) , padding = 'same')(x) # N*14*14*32\n",
    "x = Conv2D(32 , (3 ,3) , padding = 'same' , activation = 'relu')(x) # N*14*14*32\n",
    "encoding = MaxPooling2D(pool_size  = (2 , 2) , padding = 'same')(x) # N*7*7*32"
   ]
  },
  {
   "cell_type": "code",
   "execution_count": 67,
   "metadata": {},
   "outputs": [],
   "source": [
    "x = Conv2D(32 , (3 , 3) , padding = 'same' , activation = 'relu')(encoding) # N*7*7*32\n",
    "x = UpSampling2D(size = (2 , 2))(x)\n",
    "x = Conv2D(32 , (3 , 3) , padding = 'same' , activation = 'relu')(x)\n",
    "x = UpSampling2D(size = (2 , 2))(x)\n",
    "decoding = Conv2D(1, (3 ,3) , padding = 'same' , activation = 'sigmoid')(x)"
   ]
  },
  {
   "cell_type": "code",
   "execution_count": 68,
   "metadata": {},
   "outputs": [],
   "source": [
    "autoencoder = Model(image_input, decoding)\n",
    "autoencoder.compile(optimizer='adadelta', loss='binary_crossentropy')"
   ]
  },
  {
   "cell_type": "code",
   "execution_count": null,
   "metadata": {},
   "outputs": [
    {
     "name": "stdout",
     "output_type": "stream",
     "text": [
      "Train on 60000 samples, validate on 10000 samples\n",
      "Epoch 1/100\n",
      "60000/60000 [==============================] - 200s 3ms/step - loss: 0.1773 - val_loss: 0.1379\n",
      "Epoch 2/100\n",
      "25984/60000 [===========>..................] - ETA: 1:47 - loss: 0.1216"
     ]
    }
   ],
   "source": [
    "autoencoder.fit(x_train_noise, x_train,\n",
    "                epochs=100,\n",
    "                batch_size=128,\n",
    "                shuffle=True,\n",
    "                validation_data=(x_test_noise, x_test))\n",
    "autoencoder.save('/home/df_fun/05_autoEncode/autoencoder.h5')"
   ]
  },
  {
   "cell_type": "code",
   "execution_count": null,
   "metadata": {},
   "outputs": [],
   "source": []
  }
 ],
 "metadata": {
  "kernelspec": {
   "display_name": "Python 3",
   "language": "python",
   "name": "python3"
  },
  "language_info": {
   "codemirror_mode": {
    "name": "ipython",
    "version": 3
   },
   "file_extension": ".py",
   "mimetype": "text/x-python",
   "name": "python",
   "nbconvert_exporter": "python",
   "pygments_lexer": "ipython3",
   "version": "3.6.6"
  }
 },
 "nbformat": 4,
 "nbformat_minor": 2
}
