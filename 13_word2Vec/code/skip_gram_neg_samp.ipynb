{
 "cells": [
  {
   "cell_type": "code",
   "execution_count": 1,
   "metadata": {},
   "outputs": [],
   "source": [
    "# -*- coding= uft-8 -*-"
   ]
  },
  {
   "cell_type": "code",
   "execution_count": 2,
   "metadata": {},
   "outputs": [],
   "source": [
    "import pickle\n",
    "import numpy as np\n",
    "import sys\n",
    "import collections"
   ]
  },
  {
   "cell_type": "code",
   "execution_count": 3,
   "metadata": {},
   "outputs": [
    {
     "name": "stderr",
     "output_type": "stream",
     "text": [
      "/home/tf/anaconda3/lib/python3.6/site-packages/h5py/__init__.py:36: FutureWarning: Conversion of the second argument of issubdtype from `float` to `np.floating` is deprecated. In future, it will be treated as `np.float64 == np.dtype(float).type`.\n",
      "  from ._conv import register_converters as _register_converters\n"
     ]
    }
   ],
   "source": [
    "sys.path.append('/home/tf/anaconda3/envs/tensorflow-gpu/lib/python3.6/site-packages')\n",
    "import tensorflow as tf\n",
    "from tqdm import tqdm"
   ]
  },
  {
   "cell_type": "code",
   "execution_count": 4,
   "metadata": {},
   "outputs": [
    {
     "name": "stdout",
     "output_type": "stream",
     "text": [
      "共61880行\n",
      "欧几里得 西元前 三 世纪 的 希腊 数学家 现在 被 认为 是 几何 之 父 此画 为 拉斐尔 的 作品 雅典 学院 数学 mathematics 是 利用 符号语言 研究 数量 结构 变化 以及 空间 等 概念 的 一门 学科 从 某种 角度看 属于 形式 科学 的 一种 数学 透过 抽象化 和 逻辑推理 的 使用 由 计数 计算 数学家 们 拓展 这些 概念 对 数学 基本概念 的 完善 早 在 古埃及 而 在 古希腊 那里 有 更为 严谨 的 处理 从 那时 开始 数学 的 发展 便 持续 不断 地 小幅 进展 世纪 的 文艺复兴 时期 致使 数学 的 加速 发展 直至 今日 今日 数学 使用 在 不同 的 领域 中 包括 科学 工程 医学 和 经济学 等 有时 亦 会 激起 新 的 数学 发现 并 导致 全新 学科 的 发展 数学家 也 研究 纯数学 就是 数学 本身 的 实质性 内容 而 不以 任何 实际 应用 为 目标 虽然 许多 研究 以 纯数学 开始 但 其 过程 中 也 发现 许多 应用 之 处 词源 西方 语言 中 数学 一 词源 自于 古希腊 语 的 其有 学习 学问 科学 数学 研究 即使 在 其 语源 内 其 形容词 意思 为 和 学习 有关 的 用功 的 亦 会 被 用来 指 数学 的 其 在 英语 中 表面 上 的 复数 形式 及 在 法语 中 的 表面 复数 形式 可溯 至 拉丁文 的 中性 复数 由 西塞罗 译自 希腊文 复数 此一 希腊语 被 亚里士多德 拿来 指 万物 皆 数 的 概念 数学 一词 的 大约 产生 于 宋元 时期 多指 象数 之学 但 有时 也 含有 今天 上 的 数学 意义 例如 秦九韶 的 数学 九章 永乐 大典 数书 九章 也 被 宋代 周密 所著 的 癸 辛杂识 记 为 数学 大略 数学 通轨 明代 柯尚 迁著 数学 钥 清代 杜知 耕著 数学 拾遗 清代 丁取忠 撰 直到 经过 中国 数学 名词 审查 委员会 研究 算学 数学 两词 的 使用 状况 后 确认 以 数学 表示 今天 意义 上 的 数学 含义 历史 奇普 印加帝国 时所 使用 的 计数 工具 数学 有着 久远 的 历史 中国 古代 的 六艺 之一 就 有 数学 一词 在 西方 有 希腊语 词源 mathematik ó s 意思 是 学问 的 基础 源于 m á thema 科学 知识 学问 时间 的 长短 等 抽象 的 数量 关系 比如 时间 单位 有 日 季节 和 年 等 算术 加减乘除 也 自然而然 地 产生 了 历史 上 曾 有 过 许多 不同 的 记数 系统 玛雅 数字 在 最初 有 历史记录 的 时候 为 了解 数字 间 的 关系 为了 测量 土地 以及 为了 预测 天文 事件 而 形成 的 结构 空间 及 时间 方面 的 研究 到 了 世纪 算术 微积分 的 概念 也 在 此时 形成 随着 数学 转向 形式化 从古至今 数学 便 一直 不断 地 延展 且 与 科学 有 丰富 的 相互作用 两者 的 发展 都 受惠 于 彼此 在历史上 有著 许多 数学 发现 并且 直至 今日 都 不断 地有 新 的 发现 据 mikhail sevryuk 于 美国 数学 会 通报 月 的 期刊 中 所说 数学 评论 的 创刊 年份 现已 超过 了 一百九十 万份 而且 每年 还 增加 超过 七万 五千 份 形成 纯数学 与 应用 数学 及 美学 牛顿 微积分 的 发明者 之一 每当 有 涉及 数量 结构 空间 及 变化 等 方面 的 困难 问题 时 而 这 往往 也 拓展 了 数学 的 研究 范畴 一 开始 数学 的 运用 可见 于 贸易 土地 测量 及 之后 的 天文学 今日 且 数学 本身 亦 给出 了 许多 的 问题 牛顿 和 莱布尼兹 是 微积分 的 发明者 费曼 发明 了 费曼 路径 积分 这是 推理 及 物理 洞察 二者 的 产物 而 今日 的 弦 理论 亦 引申 出新 的 数学 一些 数学 只 和 生成 它 的 领域 有关 且 用来 解答 此 领域 的 更 多 问题 且 可以 成为 一般 的 数学 概念 即使 是 最纯 的 数学 通常 亦 有 实际 的 用途 此一 非比寻常 的 事实 年 诺贝尔 物理 奖得主 维格纳 称为 如同 大多数 的 研究 领域 主要 的 分歧 为 纯数学 和 应用 数学 在 应用 数学 内 又 被 分成 两大 领域 并且 变成 了 它们 自身 的 学科 统计学 和 电脑 科学 许多 数学家 谈论 数学 的 优美 其内 在 的 美学 及美 简单 一般化 即 为 美的 一种 另外 亦 包括 巧妙 的 证明 又 或者 是 加快 计算 的 数值 方法 如 快速 傅立叶 变换 高 德菲 哈罗德 哈代 在 一个 数学家 的 自白 符号 语言 与 精确性 在 现代 的 符号 中 此一 图像 即 产生 自 x cos arccos sin 〡 arcsin cos 〡 世纪 后 才 被 发明 出来 的 在此之前 数学 以 文字 的 形式 书写 出来 这种 形式 会 限制 了 数学 的 发展 但 初学者 却常 对此 感到 怯步 它 被 极度 的 压缩 少量 的 符号 包含 著 大量 的 讯息 如同 音乐 符号 一般 现今 的 数学 符号 有 明确 的 语法 并且 有效 地 对 讯息 作 编码 这是 其他 书写 方式 难以 做到 的 符号化 和 形式化 使得 数学 迅速 发展 数学 语言 亦 对 初学者 而言 感到 困难 亦 困恼 著 初学者 的 开放 等 字 在 数学 里 有 著 特别 的 意思 数学 术语 亦 包括 如 同 胚 可积性 等 专有名词 数学 需要 比 日常用语 更 多 的 精确性 严谨 但 在 现实 应用 中 定理 希腊人 期许 著 仔细 的 论证 但 在 牛顿 的 时代 所 使用 的 方法 则 较 不 严谨 牛顿 为了 解决问题 所 做 的 定义 今日 当 大量 的 计算 难以 被 验证 时 其 证明 亦 很难说 是 足够 地 严谨 公理 在 传统 的 思想 中是 不证 自明 的 真理 但 这种 想法 是 有 问题 的 在 形式 上 公理 只是 一串 符号 但 依据 哥德尔 不 完备 定理 尽管如此 在 此 意义 下 数学 作为 科学 卡尔 弗里德里希 高斯 卡尔 弗里德里希 高斯 称 数学 为 科学 的 皇后 在 拉丁 原文 以及 其 德语 对应 于 科学 的 单字 的 意思 皆 为 知识 领域 而 实际上 科学 若 认为 科学 是 只 指 物理 的 世界 时 则 数学 或 至少 是 纯数学 不会 是 一门 科学 爱因斯坦 曾 如此 描述 数学 定律 越 和 现实 有关 它们 越 不 确定 若 它们 越是 确定 的话 它们 和 现实 越 不会 有关 且 因此 不是 卡尔 波普尔 所 定义 的 科学 但 在 年代 时 且 波普尔 推断 大部份 的 数学 定律 如 物理 及 生物学 一样 是 假设 演绎 的 比 它 现在 看起来 更 接近 然而 其他 的 思想家 如较 著名 的 拉 卡托斯 另 一 观点 则 为 某些 科学 领域 如 理论物理 是 其 公理 为 尝试 著 符合 现实 的 数学 而 事实上 理论 物理学家 齐曼 john ziman 即 认为 科学 是 一种 公众 知识 因此 亦 包含 著 数学 在 任何 的 情况 下 减轻 了 数学 不 使用 科学 方法 的 缺点 在 史蒂芬 沃尔夫 勒姆 年 的 著作 一种 新 科学 中 他 提出 数学家 对此 的 态度 并 不 一致 且 因此 基本上 是 个 哲学家 是 低估 了 其 美学 方面 的 重要性 被 创造 如 艺术 或是 被 发现 如 科学 的 争议 大学 院系 划分 中 常见 科学 和 数学系 实际上 但 在 细节 上 却 会 分开 数学 的 各 领域 有如 反映 在 中国 算盘 上 的 一般 如上所述 了解 数字 间 的 关系 测量 土地 及 预测 天文 事件 这 四种 需要 大致 地 与 数量 结构 空间 及 变化 即 算术 代数 几何 及 分析 等 数学 上 广泛 的 子 领域 相关 连著 除了 上述 主要 的 关注 之外 至 逻辑 至 集合论 基础 至 不同 科学 的 经验 上 的 数学 应用 数学 及 较 近代 的 至 不确定性 的 严格 研究 基础 与 哲学 为了 阐明 数学 基础 并 研究 此一 架构 的 结果 就 其 本身 而言 现代 逻辑 被 分成 递归论 模型 论 和 证明 论 千禧年 大奖 难题 中 的 p style border px solid ddd text align center margin auto cellspacing px px 数学 逻辑 集合论 范畴 论 纯粹 数学 数量 数量 的 研究 起于 数 孪生 质数 猜想 及 哥德巴赫猜想 当数系 更进一步 发展 时 整数 被 视为 有理数 的 子集 而 有理数 则 包含 于 实数 中 连续 的 量 即 是 以 实数 来 表示 的 实数 则 可以 被 进一步 广义 化成 复数 从 自然数 亦 可以 推广 到 超限 数 它 形式化 了 计数 至 无限 的 这 一 概念 另 一个 研究 的 领域 为 大小 阿列 夫数 style border px solid ddd text align center margin auto cellspacing 自然数 整数 有理数 实数 复数 结构 这些 物件 的 结构 性质 被 探讨 于群 zh cn zh tw 等 抽象 系统 中 该些 物件 事实上 也 就是 这样 的 系统 此 为 代数 的 领域 在 此 有 一个 很 重要 的 概念 即 广义 化至 向量 空间 的 向量 它于 线性代数 中 被 研究 数量 结构 及 空间 即 变化 纯粹 数学 是 研究 抽象 结构 的 理论 结构 布尔 巴基 学派 认为 有 三种 基本 的 抽象 结构 代数 结构 序 结构 偏序 全序 拓扑 结构 邻域 极限 连通性 维数 style border px solid ddd text align center margin auto cellspacing px px px px 数论 群论 图论 序 理论 空间 空间 的 研究 源自 于 几何 尤其 是 欧几里得 几何 三角学 则 结合 了 空间 及数 且 包含 有 著名 的 勾股定理 非 欧几里得 几何 及 拓扑学 数 和 空间 在 解析几何 结合 了 数 和 空间 的 概念 亦 有 著 拓扑 群 的 研究 结合 了 结构 与 空间 李群 被 用来 研究 空间 结构 及 变化 在 其 许多 分支 中 并 包含 有 存在 已久 的 庞加莱 猜想 以及 有 争议 的 四色 定理 庞加莱 猜想 已 在 年 确认 由 俄罗斯 数学家 格里 戈里 佩雷尔曼 证明 而 四色 定理 已 在 年 由凯 尼斯 阿佩尔 和 沃夫冈 哈肯 用 电脑 证明 而 从来 没有 由 人力 来 验证 过 style border px solid ddd text align center margin auto cellspacing px px px px px px 几何 三角学 微分 几何 拓扑学 zh cn 分形 zh tw 碎形 测度论 变化 而 微积分 更为 研究 变化 的 有利 工具 函数 诞生 于 此 做 为 描述 一 变化 的 量 的 核心 概念 而复 分析 则 为 复数 的 等价 领域 黎曼 猜想 数学 最 基本 的 未决 问题 之一 便是 以 复分析 来 描述 的 泛函 分析 注重 在 函数 的 一般 为 无限 维 空间 上 而 这 在 微分方程 中 被 研究 px px px px px px 微积分 向量分析 微分方程 动力系统 混沌 理论 复分析 离散数学 这 包含 有 可 计算 理论 计算 复杂性 理论 及 资讯 理论 这 包含 现知 最 有力 的 模型 图灵机 尽管 电脑 硬体 的 快速 进步 最后 且 因此 有 压缩 及 熵 等 概念 做 为 一 相对 较 新 的 领域 离散数学 有 许多 基本 的 未解 问题 其中 最 有名 的 为 p np 问题 千禧年 大奖 难题 之一 一般 相信 此 问题 的 解答 是 否定 的 style border px solid ddd text align center margin auto cellspacing px px px 组合 数学 计算 理论 密码学 图论 应用 数学 工商业 及其 他 领域 上 之 现实 问题 应用 数学 中 的 一 重要 领域 为 统计学 分析 与 预测 大部份 的 实验 而 比较 觉得 是 合作 团体 的 一份 子 数值 分析 研究 有 什么 计算方法 file gravitation space source png 数学 物理 file png 数学 流体力学 file composite trapezoidal rule illustration small png 数值 分析 file maximum boxed png 最佳化 file two red dice svg 概率论 file oldfaithful png 统计学 file market data index nya on utc png 计量 金融 file arbitrary gametree solved png zh tw 赛局 理论 zh cn 博弈论 file front pareto svg 数理经济学 file signal transduction pathways zh cn svg 生物 数学 file linear programming example graph zh png 作业 研究 file simple feedback control loop svg 控制论 数学 奖项 菲尔 兹 奖牌 正面 数学 奖 通常 和 其他 科学 的 奖项 分开 数学 上 最 有名 的 奖为 菲尔 兹奖 创立 于 每 四年 颁奖 一次 它 通常 被 认为 是 数学 的 诺贝尔奖 创立 于 两者 都 颁奖 于 特定 的 工作 主题 著名 的 个 问题 称为 希尔伯特 的 个 问题 年 由 德国 数学家 大卫 希尔伯特 所 提出 另 一新 的 七个 重要 问题 称为 千禧年 大奖 难题 发表 于 而 当中 只有 一个 问题 黎曼 猜想 和 希尔伯特 的 问题 重复 菲尔 兹奖 每 四年 颁奖 一次 颁 给 有 卓越贡献 的 年轻 数学家 每次 最多四人 得奖 得奖者 须 在 该 年 元旦 前 未满 四十岁 是 年轻 数学家 可以 获得 的 最大 奖项 它 是 据 加拿大 数学家 约翰 查尔斯 菲尔 兹 的 要求 设立 的 菲尔 兹 奖 被 视为 数学 界 的 诺贝尔奖 沃尔夫 奖 由 沃尔夫 基金会 颁发 该 基金会 于 年 在 以色列 创立 年 开始 颁奖 创始人 里卡多 沃尔夫 是 外交家 实业家 和 慈善家 阿贝尔 奖 每年 颁发 一次 为了 纪念 年 挪威 著名 数学家 尼尔斯 亨利 克 阿贝尔 二百 周年 诞辰 挪威政府 宣布 将 开始 颁发 此种 奖金 奖金 的 数额 大致 同 诺贝尔奖 相近 年 挪威政府 拨款 亿 挪威克朗 作为 启动资金 扩大 数学 的 影响 参见 数学 哲学 数学 游戏 数学家 列表 教育 算经十书 数学 竞赛 注记 参考书目 benson donald the moment of proof mathematical epiphanies oxford university press usa new ed edition december isbn boyer carl history of mathematics wiley edition march isbn concise history of mathematics from the concept of number to contemporary mathematics courant and robbins what is mathematics an elementary approach to ideas and methods oxford university press usa edition july isbn davis philip and hersh reuben the mathematical experience mariner books reprint edition january isbn gentle introduction to the world of mathematics eves howard an introduction to the history of mathematics sixth edition saunders isbn gullberg jan mathematics from the birth of numbers norton company st edition october isbn an encyclopedic overview of mathematics presented in clear simple language hazewinkel michiel ed 数学 百科全书 kluwer academic publishers translated and expanded version of soviet mathematics encyclopedia in ten expensive volumes the most complete and authoritative work available also in paperback and on cd rom and online jourdain philip the nature of mathematics in the world of mathematics james newman editor dover isbn kline morris mathematical thought from ancient to modern times oxford university press usa paperback edition march isbn 牛津 英语词典 second edition ed john simpson and edmund weiner clarendon press isbn the oxford dictionary of english etymology reprint isbn pappas theoni the joy of mathematics wide world publishing revised edition june isbn peterson ivars mathematical tourist new and updated snapshots of modern mathematics owl books isbn 参考 网址 rusin dave the mathematical atlas 英文版 现代 数学 漫游 weisstein eric world of mathematics 一个 在线 的 数学 百科全书 planet math 另 一个 在线 的 数学 百科全书 使用 gfdl 允许 和 维基百科 交换 条目 mathforge 一个 包含 数学 物理 epistemath 数学知识 香港科技大学 数学网 一个 以 数学史 为主 的 网站 怎样 研习 纯数学 或 统计学 本科 与 基础 研究 课程 参考书目 数学 文化 主要 面向 大学生 大学老师 和 研究生 以及 中学老师 和 学生 数学 学习 资源 互联网 上 数学 学习 资源 和 教学 视频 英汉 对照 数学 用语 archive 英汉 对照 数学 用语 albany bureau of bilingual education see profile at archive\n",
      "\n"
     ]
    }
   ],
   "source": [
    "with open('/home/tf/dl_fun/13_word2Vec/data/wiki.zh.word.text.300maa' , 'rb') as fr:\n",
    "    lines = fr.readlines()\n",
    "print('共%d行' % len(lines))\n",
    "print(lines[0].decode('utf-8', \"ignore\"))"
   ]
  },
  {
   "cell_type": "code",
   "execution_count": 5,
   "metadata": {},
   "outputs": [],
   "source": [
    "import re"
   ]
  },
  {
   "cell_type": "code",
   "execution_count": 6,
   "metadata": {},
   "outputs": [],
   "source": [
    "zh_pattern = re.compile(u'[\\u4e00-\\u9fa5]+')\n",
    "def contain_zh(word):\n",
    "    '''\n",
    "    判断传入字符串是否包含中文\n",
    "    :param word: 待判断字符串\n",
    "    :return: True:包含中文  False:不包含中文\n",
    "    '''\n",
    "    global zh_pattern\n",
    "    match = zh_pattern.findall(word)\n",
    "    return match"
   ]
  },
  {
   "cell_type": "code",
   "execution_count": 7,
   "metadata": {},
   "outputs": [
    {
     "name": "stdout",
     "output_type": "stream",
     "text": [
      "共43689887个词\n"
     ]
    }
   ],
   "source": [
    "lines = [line.decode('utf-8' , \"ignore\") for line in lines ]\n",
    "words = ' '.join(lines)\n",
    "words = words.replace('\\n', '').split(' ')\n",
    "words = [word for word in words if len(contain_zh(word)) >=1]\n",
    "print('共%d个词' % len(words))"
   ]
  },
  {
   "cell_type": "code",
   "execution_count": 8,
   "metadata": {},
   "outputs": [
    {
     "name": "stdout",
     "output_type": "stream",
     "text": [
      "[['UNK', 0], ('的', 1862328), ('在', 507911), ('是', 372995), ('年', 314945), ('为', 302192), ('和', 253349), ('了', 244163), ('与', 213124), ('有', 193026)]\n"
     ]
    }
   ],
   "source": [
    "vocab_size = 50000\n",
    "vocab = collections.Counter(words).most_common(vocab_size - 1)\n",
    "count = [['UNK', 0]]\n",
    "count.extend(vocab)\n",
    "print(count[:10])"
   ]
  },
  {
   "cell_type": "code",
   "execution_count": 9,
   "metadata": {},
   "outputs": [
    {
     "name": "stdout",
     "output_type": "stream",
     "text": [
      "如 791\n"
     ]
    }
   ],
   "source": [
    "word2id = {}\n",
    "id2word = {}\n",
    "for i, w in enumerate(count):\n",
    "    word2id[w[0]] = i\n",
    "    id2word[i] = w[0]\n",
    "print(id2word[100], word2id['数学'])"
   ]
  },
  {
   "cell_type": "code",
   "execution_count": 10,
   "metadata": {},
   "outputs": [
    {
     "name": "stderr",
     "output_type": "stream",
     "text": [
      "100%|██████████| 61880/61880 [00:48<00:00, 1282.46it/s]"
     ]
    },
    {
     "name": "stdout",
     "output_type": "stream",
     "text": [
      "UNK数量9480115\n"
     ]
    },
    {
     "name": "stderr",
     "output_type": "stream",
     "text": [
      "\n"
     ]
    }
   ],
   "source": [
    "data = []\n",
    "for i in tqdm(range(len(lines))):\n",
    "    line = lines[i].strip('\\n').split(' ')\n",
    "    d = []\n",
    "    for word in line:\n",
    "        if word in word2id:\n",
    "            d.append(word2id[word])\n",
    "        else:\n",
    "            d.append(0)\n",
    "            count[0][1] += 1\n",
    "    data.append(d)\n",
    "print('UNK数量%d' % count[0][1])"
   ]
  },
  {
   "cell_type": "code",
   "execution_count": 11,
   "metadata": {},
   "outputs": [
    {
     "name": "stdout",
     "output_type": "stream",
     "text": [
      "[13957, 7789, 274, 129, 1, 1347, 3204, 298, 11, 105]\n"
     ]
    }
   ],
   "source": [
    "print(data[0][:10])"
   ]
  },
  {
   "cell_type": "code",
   "execution_count": 12,
   "metadata": {},
   "outputs": [
    {
     "name": "stderr",
     "output_type": "stream",
     "text": [
      "100%|██████████| 61880/61880 [05:54<00:00, 174.31it/s]\n"
     ]
    },
    {
     "name": "stdout",
     "output_type": "stream",
     "text": [
      "(286417188,) (286417188, 1)\n"
     ]
    }
   ],
   "source": [
    "X_train = []\n",
    "Y_train = []\n",
    "window = 3\n",
    "for i in tqdm(range(len(data))):\n",
    "    d = data[i]\n",
    "    for j in range(len(d)):\n",
    "        start = j - window\n",
    "        end = j + window\n",
    "        if start < 0:\n",
    "            start = 0\n",
    "        if end >= len(d):\n",
    "            end = len(d) - 1\n",
    "        \n",
    "        while start <= end:\n",
    "            if start == j:\n",
    "                start += 1\n",
    "                continue\n",
    "            else:\n",
    "                X_train.append(d[j])\n",
    "                Y_train.append(d[start])\n",
    "                start += 1\n",
    "X_train = np.squeeze(np.array(X_train))\n",
    "Y_train = np.squeeze(np.array(Y_train))\n",
    "Y_train = np.expand_dims(Y_train, -1)\n",
    "print(X_train.shape, Y_train.shape)"
   ]
  },
  {
   "cell_type": "code",
   "execution_count": 13,
   "metadata": {},
   "outputs": [],
   "source": [
    "batch_size = 128\n",
    "embedding_size = 128\n",
    "valid_size = 16\n",
    "valid_range = 100\n",
    "valid_examples = np.random.choice(valid_range, valid_size, replace=False)\n",
    "num_negative_samples = 64"
   ]
  },
  {
   "cell_type": "code",
   "execution_count": 14,
   "metadata": {},
   "outputs": [],
   "source": [
    "X = tf.placeholder(tf.int32, shape=[batch_size], name='X')\n",
    "Y = tf.placeholder(tf.int32, shape=[batch_size, 1], name='Y')\n",
    "valid = tf.placeholder(tf.int32, shape=[None], name='valid')\n",
    "\n",
    "embeddings = tf.Variable(tf.random_uniform([vocab_size, embedding_size], -1.0, 1.0))\n",
    "embed = tf.nn.embedding_lookup(embeddings, X)\n",
    "\n",
    "nce_weights = tf.Variable(tf.truncated_normal([vocab_size, embedding_size], stddev=1.0 / np.sqrt(embedding_size)))\n",
    "nce_biases = tf.Variable(tf.zeros([vocab_size]))\n",
    "\n",
    "loss = tf.reduce_mean(tf.nn.nce_loss(weights=nce_weights, biases=nce_biases, labels=Y, inputs=embed, num_sampled=num_negative_samples, num_classes=vocab_size))\n",
    "\n",
    "optimizer = tf.train.AdamOptimizer().minimize(loss)"
   ]
  },
  {
   "cell_type": "code",
   "execution_count": 15,
   "metadata": {},
   "outputs": [
    {
     "name": "stdout",
     "output_type": "stream",
     "text": [
      "WARNING:tensorflow:From <ipython-input-15-e62d0afa6a95>:1: calling reduce_sum (from tensorflow.python.ops.math_ops) with keep_dims is deprecated and will be removed in a future version.\n",
      "Instructions for updating:\n",
      "keep_dims is deprecated, use keepdims instead\n"
     ]
    }
   ],
   "source": [
    "norm = tf.sqrt(tf.reduce_sum(tf.square(embeddings), axis=1, keep_dims=True))\n",
    "normalized_embeddings = embeddings / norm\n",
    "\n",
    "valid_embeddings = tf.nn.embedding_lookup(normalized_embeddings, valid)\n",
    "similarity = tf.matmul(valid_embeddings, normalized_embeddings, transpose_b=True)"
   ]
  },
  {
   "cell_type": "code",
   "execution_count": 16,
   "metadata": {},
   "outputs": [
    {
     "name": "stderr",
     "output_type": "stream",
     "text": [
      "  0%|          | 0/100000 [00:00<?, ?it/s]"
     ]
    },
    {
     "name": "stdout",
     "output_type": "stream",
     "text": [
      "Nearest to 时: 驻兵 迫 九重 驒 惠州市\n",
      "Nearest to 开始: 试剂 新婚 老年 梁龙 菩提\n",
      "Nearest to 年代: 顺利完成 海滩 四弟 双程 三十岁\n",
      "Nearest to 我: 埃拉 析置 青蛇 义乌 应聘\n",
      "Nearest to 国家: 孔明 方腊 生铁 琴弦 天书\n",
      "Nearest to 电影: 平台 主修 尉迟恭 修整 縄\n",
      "Nearest to 上: 茹 捻 梦里 怒海 招呼\n",
      "Nearest to 对: 波斯语 药师 二十大 芝山 工作室\n",
      "Nearest to 则: 神秘 鞑靼 火炎 丽塔 汉高祖\n",
      "Nearest to 台湾: 学运 杰出 内河 饼干 用水\n",
      "Nearest to 与: 抱持 之命 不二 鲜师 帕默\n",
      "Nearest to 号: 书中 重唱 前方 留级 这场\n",
      "Nearest to 于: 殷墟 死守 宿县 毓 十二五\n",
      "Nearest to 其他: 亲赴 弦 关露 招降 赞许\n",
      "Nearest to 以: 一枝梅 藤原 茂密 咨议 期间\n"
     ]
    },
    {
     "name": "stderr",
     "output_type": "stream",
     "text": [
      "  0%|          | 1/100000 [00:36<1026:17:07, 36.95s/it]"
     ]
    },
    {
     "name": "stdout",
     "output_type": "stream",
     "text": [
      "Nearest to 美国: 会昌 拉罗 初任 分封 响亮\n"
     ]
    },
    {
     "name": "stderr",
     "output_type": "stream",
     "text": [
      "  2%|▏         | 2002/100000 [05:32<3:37:39,  7.50it/s]"
     ]
    },
    {
     "name": "stdout",
     "output_type": "stream",
     "text": [
      "Iteration 2000 Average Loss 228.915253\n"
     ]
    },
    {
     "name": "stderr",
     "output_type": "stream",
     "text": [
      "  4%|▍         | 4002/100000 [09:44<3:11:10,  8.37it/s]"
     ]
    },
    {
     "name": "stdout",
     "output_type": "stream",
     "text": [
      "Iteration 4000 Average Loss 164.619720\n"
     ]
    },
    {
     "name": "stderr",
     "output_type": "stream",
     "text": [
      "  6%|▌         | 6002/100000 [13:55<3:10:38,  8.22it/s]"
     ]
    },
    {
     "name": "stdout",
     "output_type": "stream",
     "text": [
      "Iteration 6000 Average Loss 131.116028\n"
     ]
    },
    {
     "name": "stderr",
     "output_type": "stream",
     "text": [
      "  8%|▊         | 8002/100000 [18:01<3:05:55,  8.25it/s]"
     ]
    },
    {
     "name": "stdout",
     "output_type": "stream",
     "text": [
      "Iteration 8000 Average Loss 107.978928\n"
     ]
    },
    {
     "name": "stderr",
     "output_type": "stream",
     "text": [
      " 10%|█         | 10000/100000 [22:36<3:32:13,  7.07it/s]"
     ]
    },
    {
     "name": "stdout",
     "output_type": "stream",
     "text": [
      "Iteration 10000 Average Loss 92.600044\n",
      "Nearest to 时: UNK 为 和 其中 等\n",
      "Nearest to 开始: UNK 与 人 在 等\n",
      "Nearest to 年代: 是 UNK 则 主要 年\n",
      "Nearest to 我: 国家 出现 中 文化 一个\n",
      "Nearest to 国家: 年 中国 UNK 于 人\n",
      "Nearest to 电影: 一个 之 由 但 日本\n",
      "Nearest to 上: 为 UNK 的 人 等\n",
      "Nearest to 对: 在 UNK 了 为 年\n",
      "Nearest to 则: 是 以 UNK 与 等\n",
      "Nearest to 台湾: 则 中国 在 年 为\n",
      "Nearest to 与: UNK 是 人 开始 年\n"
     ]
    },
    {
     "name": "stderr",
     "output_type": "stream",
     "text": [
      " 10%|█         | 10001/100000 [22:36<5:19:22,  4.70it/s]"
     ]
    },
    {
     "name": "stdout",
     "output_type": "stream",
     "text": [
      "Nearest to 号: 经济 及 国家 此外 UNK\n",
      "Nearest to 于: 年 中国 有 了 与\n",
      "Nearest to 其他: 为 在 年 UNK 有\n",
      "Nearest to 以: UNK 为 则 其中 人\n",
      "Nearest to 美国: 日本 于 时 等 与\n"
     ]
    },
    {
     "name": "stderr",
     "output_type": "stream",
     "text": [
      " 12%|█▏        | 12002/100000 [27:28<4:37:33,  5.28it/s]"
     ]
    },
    {
     "name": "stdout",
     "output_type": "stream",
     "text": [
      "Iteration 12000 Average Loss 76.954460\n"
     ]
    },
    {
     "name": "stderr",
     "output_type": "stream",
     "text": [
      " 14%|█▍        | 14002/100000 [32:08<2:57:49,  8.06it/s]"
     ]
    },
    {
     "name": "stdout",
     "output_type": "stream",
     "text": [
      "Iteration 14000 Average Loss 64.658752\n"
     ]
    },
    {
     "name": "stderr",
     "output_type": "stream",
     "text": [
      " 16%|█▌        | 16002/100000 [37:19<2:52:33,  8.11it/s]"
     ]
    },
    {
     "name": "stdout",
     "output_type": "stream",
     "text": [
      "Iteration 16000 Average Loss 61.981426\n"
     ]
    },
    {
     "name": "stderr",
     "output_type": "stream",
     "text": [
      " 18%|█▊        | 18002/100000 [41:31<2:42:21,  8.42it/s]"
     ]
    },
    {
     "name": "stdout",
     "output_type": "stream",
     "text": [
      "Iteration 18000 Average Loss 53.294876\n"
     ]
    },
    {
     "name": "stderr",
     "output_type": "stream",
     "text": [
      " 20%|██        | 20000/100000 [45:35<2:34:43,  8.62it/s]"
     ]
    },
    {
     "name": "stdout",
     "output_type": "stream",
     "text": [
      "Iteration 20000 Average Loss 51.653706\n",
      "Nearest to 时: 其中 美国 成为 影响 就是\n",
      "Nearest to 开始: 人 日本 与 则 包括\n",
      "Nearest to 年代: 则 英国 自 亦 称为\n",
      "Nearest to 我: 另外 出现 同时 已 文化\n",
      "Nearest to 国家: 年 中国 于 从 因\n",
      "Nearest to 电影: 大学 思想 一个 日本 就是\n",
      "Nearest to 上: 为 的 人 有 UNK\n",
      "Nearest to 对: 较 向 文化 之 属于\n",
      "Nearest to 则: 历史 其中 台湾 年代 以\n",
      "Nearest to 台湾: 则 属于 称为 由于 历史\n",
      "Nearest to 与: UNK 是 开始 在 年\n",
      "Nearest to 号: 此外 比较 作为 经济 地\n",
      "Nearest to 于: 年 中国 国家 了 至\n",
      "Nearest to 其他: 为 至 有 年 在\n",
      "Nearest to 以: 其中 UNK 则 为 人\n"
     ]
    },
    {
     "name": "stderr",
     "output_type": "stream",
     "text": [
      " 20%|██        | 20002/100000 [45:36<4:47:51,  4.63it/s]"
     ]
    },
    {
     "name": "stdout",
     "output_type": "stream",
     "text": [
      "Nearest to 美国: 日本 时 英国 宗教 至\n"
     ]
    },
    {
     "name": "stderr",
     "output_type": "stream",
     "text": [
      " 22%|██▏       | 22002/100000 [49:27<3:00:32,  7.20it/s]"
     ]
    },
    {
     "name": "stdout",
     "output_type": "stream",
     "text": [
      "Iteration 22000 Average Loss 50.833130\n"
     ]
    },
    {
     "name": "stderr",
     "output_type": "stream",
     "text": [
      " 24%|██▍       | 24002/100000 [53:19<2:21:47,  8.93it/s]"
     ]
    },
    {
     "name": "stdout",
     "output_type": "stream",
     "text": [
      "Iteration 24000 Average Loss 43.483189\n"
     ]
    },
    {
     "name": "stderr",
     "output_type": "stream",
     "text": [
      " 26%|██▌       | 26002/100000 [57:11<2:42:06,  7.61it/s]"
     ]
    },
    {
     "name": "stdout",
     "output_type": "stream",
     "text": [
      "Iteration 26000 Average Loss 36.120182\n"
     ]
    },
    {
     "name": "stderr",
     "output_type": "stream",
     "text": [
      " 28%|██▊       | 28002/100000 [1:01:08<2:17:37,  8.72it/s]"
     ]
    },
    {
     "name": "stdout",
     "output_type": "stream",
     "text": [
      "Iteration 28000 Average Loss 35.765167\n"
     ]
    },
    {
     "name": "stderr",
     "output_type": "stream",
     "text": [
      " 30%|███       | 30000/100000 [1:05:39<2:15:02,  8.64it/s]"
     ]
    },
    {
     "name": "stdout",
     "output_type": "stream",
     "text": [
      "Iteration 30000 Average Loss 32.363255\n",
      "Nearest to 时: UNK 为 年 中 和\n",
      "Nearest to 开始: 并 人 与 UNK 年\n",
      "Nearest to 年代: UNK 则 是 自 英国\n"
     ]
    },
    {
     "name": "stderr",
     "output_type": "stream",
     "text": [
      " 30%|███       | 30001/100000 [1:05:40<4:15:19,  4.57it/s]"
     ]
    },
    {
     "name": "stdout",
     "output_type": "stream",
     "text": [
      "Nearest to 我: 另外 阶段 陆续 区划 出现\n",
      "Nearest to 国家: 年 UNK 中国 于 了\n",
      "Nearest to 电影: 公共 话 思想 大学 说法\n",
      "Nearest to 上: 为 是 有 而 的\n",
      "Nearest to 对: 在 UNK 了 为 也\n",
      "Nearest to 则: UNK 是 以 其中 与\n",
      "Nearest to 台湾: 则 中国 在 年 但\n",
      "Nearest to 与: UNK 在 是 年 了\n",
      "Nearest to 号: 比较 此外 简称 据 南北朝\n",
      "Nearest to 于: 年 UNK 了 在 中国\n",
      "Nearest to 其他: 为 在 和 有 是\n",
      "Nearest to 以: UNK 为 则 其中 中\n",
      "Nearest to 美国: UNK 于 时 日本 是\n"
     ]
    },
    {
     "name": "stderr",
     "output_type": "stream",
     "text": [
      " 32%|███▏      | 32002/100000 [1:09:42<2:12:41,  8.54it/s]"
     ]
    },
    {
     "name": "stdout",
     "output_type": "stream",
     "text": [
      "Iteration 32000 Average Loss 28.916862\n"
     ]
    },
    {
     "name": "stderr",
     "output_type": "stream",
     "text": [
      " 34%|███▍      | 34002/100000 [1:13:45<2:09:39,  8.48it/s]"
     ]
    },
    {
     "name": "stdout",
     "output_type": "stream",
     "text": [
      "Iteration 34000 Average Loss 29.122417\n"
     ]
    },
    {
     "name": "stderr",
     "output_type": "stream",
     "text": [
      " 36%|███▌      | 36002/100000 [1:17:47<2:05:09,  8.52it/s]"
     ]
    },
    {
     "name": "stdout",
     "output_type": "stream",
     "text": [
      "Iteration 36000 Average Loss 24.784409\n"
     ]
    },
    {
     "name": "stderr",
     "output_type": "stream",
     "text": [
      " 38%|███▊      | 38002/100000 [1:21:47<2:00:05,  8.60it/s]"
     ]
    },
    {
     "name": "stdout",
     "output_type": "stream",
     "text": [
      "Iteration 38000 Average Loss 24.414614\n"
     ]
    },
    {
     "name": "stderr",
     "output_type": "stream",
     "text": [
      " 40%|████      | 40000/100000 [1:25:51<1:54:35,  8.73it/s]"
     ]
    },
    {
     "name": "stdout",
     "output_type": "stream",
     "text": [
      "Iteration 40000 Average Loss 25.547878\n"
     ]
    },
    {
     "name": "stderr",
     "output_type": "stream",
     "text": [
      " 40%|████      | 40002/100000 [1:25:52<4:52:41,  3.42it/s]"
     ]
    },
    {
     "name": "stdout",
     "output_type": "stream",
     "text": [
      "Nearest to 时: 为 UNK 中 年 并\n",
      "Nearest to 开始: 人 与 日本 并 则\n",
      "Nearest to 年代: 则 是 对 包括 亦\n",
      "Nearest to 我: 文化 出现 中 另外 国家\n",
      "Nearest to 国家: 年 中国 于 从 了\n",
      "Nearest to 电影: UNK 平台 河南省 大学 公共\n",
      "Nearest to 上: 而 为 研究 下 中\n",
      "Nearest to 对: 了 在 使用 为 其他\n",
      "Nearest to 则: 以 其中 台湾 历史 与\n",
      "Nearest to 台湾: 则 但 中国 由于 研究\n",
      "Nearest to 与: UNK 是 多 将 和\n",
      "Nearest to 号: 此外 比较 经济 国家 评论\n",
      "Nearest to 于: 年 了 国家 UNK 中国\n",
      "Nearest to 其他: 和 为 在 使用 则\n",
      "Nearest to 以: UNK 则 为 其中 中\n",
      "Nearest to 美国: 于 UNK 时 与 日本\n"
     ]
    },
    {
     "name": "stderr",
     "output_type": "stream",
     "text": [
      " 42%|████▏     | 42002/100000 [1:29:52<1:52:28,  8.59it/s]"
     ]
    },
    {
     "name": "stdout",
     "output_type": "stream",
     "text": [
      "Iteration 42000 Average Loss 20.569962\n"
     ]
    },
    {
     "name": "stderr",
     "output_type": "stream",
     "text": [
      " 44%|████▍     | 44002/100000 [1:33:51<1:53:03,  8.25it/s]"
     ]
    },
    {
     "name": "stdout",
     "output_type": "stream",
     "text": [
      "Iteration 44000 Average Loss 21.599026\n"
     ]
    },
    {
     "name": "stderr",
     "output_type": "stream",
     "text": [
      " 46%|████▌     | 46002/100000 [1:37:53<1:47:24,  8.38it/s]"
     ]
    },
    {
     "name": "stdout",
     "output_type": "stream",
     "text": [
      "Iteration 46000 Average Loss 20.443314\n"
     ]
    },
    {
     "name": "stderr",
     "output_type": "stream",
     "text": [
      " 48%|████▊     | 48002/100000 [1:41:56<1:41:02,  8.58it/s]"
     ]
    },
    {
     "name": "stdout",
     "output_type": "stream",
     "text": [
      "Iteration 48000 Average Loss 19.717237\n"
     ]
    },
    {
     "name": "stderr",
     "output_type": "stream",
     "text": [
      " 50%|█████     | 50000/100000 [1:46:01<1:50:11,  7.56it/s]"
     ]
    },
    {
     "name": "stdout",
     "output_type": "stream",
     "text": [
      "Iteration 50000 Average Loss 19.312160\n",
      "Nearest to 时: UNK 为 中 其中 国家\n"
     ]
    },
    {
     "name": "stderr",
     "output_type": "stream",
     "text": [
      " 50%|█████     | 50002/100000 [1:46:01<2:31:13,  5.51it/s]"
     ]
    },
    {
     "name": "stdout",
     "output_type": "stream",
     "text": [
      "Nearest to 开始: 又 人 由于 日本 目前\n",
      "Nearest to 年代: 自 则 英国 一 亦\n",
      "Nearest to 我: 出现 文化 已 另外 同时\n",
      "Nearest to 国家: 中国 从 因 年 于\n",
      "Nearest to 电影: UNK 平台 一个 大学 不\n",
      "Nearest to 上: 研究 国家 具有 就是 下\n",
      "Nearest to 对: 了 向 文化 出 较\n",
      "Nearest to 则: 其中 以 又 与 台湾\n",
      "Nearest to 台湾: 则 由于 但 研究 这种\n",
      "Nearest to 与: UNK 在 是 和 将\n",
      "Nearest to 号: 此外 及 比较 国家 经济\n",
      "Nearest to 于: 年 了 国家 在 UNK\n",
      "Nearest to 其他: 自己 说 对 使用 作为\n",
      "Nearest to 以: UNK 其中 为 则 是\n",
      "Nearest to 美国: 于 UNK 与 时 日本\n"
     ]
    },
    {
     "name": "stderr",
     "output_type": "stream",
     "text": [
      " 52%|█████▏    | 52002/100000 [1:49:58<1:30:30,  8.84it/s]"
     ]
    },
    {
     "name": "stdout",
     "output_type": "stream",
     "text": [
      "Iteration 52000 Average Loss 17.485212\n"
     ]
    },
    {
     "name": "stderr",
     "output_type": "stream",
     "text": [
      " 54%|█████▍    | 54002/100000 [1:53:56<1:27:50,  8.73it/s]"
     ]
    },
    {
     "name": "stdout",
     "output_type": "stream",
     "text": [
      "Iteration 54000 Average Loss 18.149754\n"
     ]
    },
    {
     "name": "stderr",
     "output_type": "stream",
     "text": [
      " 56%|█████▌    | 56002/100000 [1:57:53<1:22:54,  8.85it/s]"
     ]
    },
    {
     "name": "stdout",
     "output_type": "stream",
     "text": [
      "Iteration 56000 Average Loss 16.957762\n"
     ]
    },
    {
     "name": "stderr",
     "output_type": "stream",
     "text": [
      " 58%|█████▊    | 58002/100000 [2:01:54<1:24:16,  8.31it/s]"
     ]
    },
    {
     "name": "stdout",
     "output_type": "stream",
     "text": [
      "Iteration 58000 Average Loss 16.709694\n"
     ]
    },
    {
     "name": "stderr",
     "output_type": "stream",
     "text": [
      " 60%|██████    | 60000/100000 [2:06:03<1:18:21,  8.51it/s]"
     ]
    },
    {
     "name": "stdout",
     "output_type": "stream",
     "text": [
      "Iteration 60000 Average Loss 17.149921\n",
      "Nearest to 时: 为 中 并 将 UNK\n",
      "Nearest to 开始: 由于 目前 并 对 又\n",
      "Nearest to 年代: 自 则 会议 亦 发达\n",
      "Nearest to 我: 出现 阶段 另外 同时 已\n",
      "Nearest to 国家: 中国 在 从 于 因\n",
      "Nearest to 电影: 平台 UNK 一个 研究 由\n",
      "Nearest to 上: 中 研究 具有 就是 影响\n",
      "Nearest to 对: 了 较 向 但 在\n",
      "Nearest to 则: 其中 历史 逐渐 与 是\n",
      "Nearest to 台湾: 由于 则 但 研究 组成\n"
     ]
    },
    {
     "name": "stderr",
     "output_type": "stream",
     "text": [
      " 60%|██████    | 60002/100000 [2:06:04<2:03:44,  5.39it/s]"
     ]
    },
    {
     "name": "stdout",
     "output_type": "stream",
     "text": [
      "Nearest to 与: 和 UNK 在 是 等\n",
      "Nearest to 号: 此外 比较 评论 简称 及\n",
      "Nearest to 于: 在 年 了 国家 中国\n",
      "Nearest to 其他: 和 为 自己 等 许多\n",
      "Nearest to 以: 为 其中 则 UNK 但\n",
      "Nearest to 美国: 于 春秋 日本 发布 与\n"
     ]
    },
    {
     "name": "stderr",
     "output_type": "stream",
     "text": [
      " 62%|██████▏   | 62002/100000 [2:10:09<1:15:13,  8.42it/s]"
     ]
    },
    {
     "name": "stdout",
     "output_type": "stream",
     "text": [
      "Iteration 62000 Average Loss 16.509455\n"
     ]
    },
    {
     "name": "stderr",
     "output_type": "stream",
     "text": [
      " 64%|██████▍   | 64002/100000 [2:14:16<1:15:28,  7.95it/s]"
     ]
    },
    {
     "name": "stdout",
     "output_type": "stream",
     "text": [
      "Iteration 64000 Average Loss 14.063516\n"
     ]
    },
    {
     "name": "stderr",
     "output_type": "stream",
     "text": [
      " 66%|██████▌   | 66002/100000 [2:18:12<1:04:30,  8.78it/s]"
     ]
    },
    {
     "name": "stdout",
     "output_type": "stream",
     "text": [
      "Iteration 66000 Average Loss 14.723403\n"
     ]
    },
    {
     "name": "stderr",
     "output_type": "stream",
     "text": [
      " 68%|██████▊   | 68002/100000 [2:22:16<1:10:12,  7.60it/s]"
     ]
    },
    {
     "name": "stdout",
     "output_type": "stream",
     "text": [
      "Iteration 68000 Average Loss 14.083261\n"
     ]
    },
    {
     "name": "stderr",
     "output_type": "stream",
     "text": [
      " 70%|███████   | 70001/100000 [2:26:14<1:29:44,  5.57it/s]"
     ]
    },
    {
     "name": "stdout",
     "output_type": "stream",
     "text": [
      "Iteration 70000 Average Loss 14.710823\n",
      "Nearest to 时: 为 在 和 UNK 并\n",
      "Nearest to 开始: 并 对 由于 与 在\n",
      "Nearest to 年代: 世纪 会议 自 则 对\n",
      "Nearest to 我: 阶段 出现 地质 另外 同时\n",
      "Nearest to 国家: 在 的 中国 从 有\n",
      "Nearest to 电影: UNK 平台 的 研究 和\n",
      "Nearest to 上: 中 研究 方面 是 的\n",
      "Nearest to 对: 了 在 较 出 但\n",
      "Nearest to 则: 其中 的 与 是 和\n",
      "Nearest to 台湾: 则 由于 韩国 组成 为\n",
      "Nearest to 与: 和 UNK 的 在 是\n",
      "Nearest to 号: 此外 评论 借口 比较 南北朝\n",
      "Nearest to 于: 在 年 了 UNK 中国\n",
      "Nearest to 其他: 和 为 在 自己 等\n",
      "Nearest to 以: 为 UNK 则 其中 和\n",
      "Nearest to 美国: 于 与 UNK 和 日本\n"
     ]
    },
    {
     "name": "stderr",
     "output_type": "stream",
     "text": [
      " 72%|███████▏  | 72002/100000 [2:30:39<58:01,  8.04it/s]"
     ]
    },
    {
     "name": "stdout",
     "output_type": "stream",
     "text": [
      "Iteration 72000 Average Loss 13.231431\n"
     ]
    },
    {
     "name": "stderr",
     "output_type": "stream",
     "text": [
      " 74%|███████▍  | 74002/100000 [2:37:24<1:45:50,  4.09it/s]"
     ]
    },
    {
     "name": "stdout",
     "output_type": "stream",
     "text": [
      "Iteration 74000 Average Loss 12.422188\n"
     ]
    },
    {
     "name": "stderr",
     "output_type": "stream",
     "text": [
      " 76%|███████▌  | 76002/100000 [2:42:22<57:37,  6.94it/s]  "
     ]
    },
    {
     "name": "stdout",
     "output_type": "stream",
     "text": [
      "Iteration 76000 Average Loss 13.346236\n"
     ]
    },
    {
     "name": "stderr",
     "output_type": "stream",
     "text": [
      " 78%|███████▊  | 78002/100000 [2:47:19<54:05,  6.78it/s]"
     ]
    },
    {
     "name": "stdout",
     "output_type": "stream",
     "text": [
      "Iteration 78000 Average Loss 12.818419\n"
     ]
    },
    {
     "name": "stderr",
     "output_type": "stream",
     "text": [
      " 80%|████████  | 80000/100000 [2:51:53<49:38,  6.72it/s]"
     ]
    },
    {
     "name": "stdout",
     "output_type": "stream",
     "text": [
      "Iteration 80000 Average Loss 10.669143\n"
     ]
    },
    {
     "name": "stderr",
     "output_type": "stream",
     "text": [
      " 80%|████████  | 80001/100000 [2:51:57<6:38:00,  1.19s/it]"
     ]
    },
    {
     "name": "stdout",
     "output_type": "stream",
     "text": [
      "Nearest to 时: 在 为 和 中 UNK\n",
      "Nearest to 开始: 在 由于 并 对 的\n",
      "Nearest to 年代: 世纪 自 则 中 一些\n",
      "Nearest to 我: 地质 非常 阶段 UNK 出现\n",
      "Nearest to 国家: 在 中国 的 和 从\n",
      "Nearest to 电影: UNK 平台 和 的 由\n",
      "Nearest to 上: 中 的 是 方面 为\n",
      "Nearest to 对: 在 但 了 也 的\n",
      "Nearest to 则: 的 是 和 与 其中\n",
      "Nearest to 台湾: 香港 韩国 由于 中国 则\n",
      "Nearest to 与: 和 UNK 的 在 是\n",
      "Nearest to 号: 此外 及 评论 比较 承诺\n",
      "Nearest to 于: 在 年 了 UNK 中国\n",
      "Nearest to 其他: 和 等 为 有 在\n",
      "Nearest to 以: 为 UNK 是 则 的\n",
      "Nearest to 美国: 于 与 和 约翰 UNK\n"
     ]
    },
    {
     "name": "stderr",
     "output_type": "stream",
     "text": [
      " 82%|████████▏ | 82002/100000 [2:56:23<39:39,  7.56it/s]"
     ]
    },
    {
     "name": "stdout",
     "output_type": "stream",
     "text": [
      "Iteration 82000 Average Loss 10.435157\n"
     ]
    },
    {
     "name": "stderr",
     "output_type": "stream",
     "text": [
      " 84%|████████▍ | 84002/100000 [3:00:48<36:10,  7.37it/s]"
     ]
    },
    {
     "name": "stdout",
     "output_type": "stream",
     "text": [
      "Iteration 84000 Average Loss 11.618578\n"
     ]
    },
    {
     "name": "stderr",
     "output_type": "stream",
     "text": [
      " 86%|████████▌ | 86002/100000 [3:05:15<31:37,  7.38it/s]"
     ]
    },
    {
     "name": "stdout",
     "output_type": "stream",
     "text": [
      "Iteration 86000 Average Loss 11.990019\n"
     ]
    },
    {
     "name": "stderr",
     "output_type": "stream",
     "text": [
      " 88%|████████▊ | 88002/100000 [3:09:50<26:39,  7.50it/s]"
     ]
    },
    {
     "name": "stdout",
     "output_type": "stream",
     "text": [
      "Iteration 88000 Average Loss 11.570456\n"
     ]
    },
    {
     "name": "stderr",
     "output_type": "stream",
     "text": [
      " 90%|█████████ | 90001/100000 [3:14:27<29:29,  5.65it/s]"
     ]
    },
    {
     "name": "stdout",
     "output_type": "stream",
     "text": [
      "Iteration 90000 Average Loss 10.963706\n",
      "Nearest to 时: 在 中 和 的 并\n",
      "Nearest to 开始: 在 并 后 到 由于\n",
      "Nearest to 年代: 世纪 自 中 发达 则\n",
      "Nearest to 我: 表示 的 地质 这个 非常\n",
      "Nearest to 国家: 在 中国 和 的 有\n",
      "Nearest to 电影: UNK 和 由 的 及\n",
      "Nearest to 上: 中 的 是 方面 和\n",
      "Nearest to 对: 在 的 了 但 也\n",
      "Nearest to 则: 的 是 也 和 等\n",
      "Nearest to 台湾: 韩国 香港 中国 日本 艺人\n",
      "Nearest to 与: 和 UNK 的 在 等\n",
      "Nearest to 号: 此外 评论 成为 前方 借口\n",
      "Nearest to 于: 在 了 年 的 英国\n",
      "Nearest to 其他: 和 等 有 的 为\n",
      "Nearest to 以: 为 是 及 之 则\n",
      "Nearest to 美国: 日本 和 UNK 英国 于\n"
     ]
    },
    {
     "name": "stderr",
     "output_type": "stream",
     "text": [
      " 92%|█████████▏| 92002/100000 [3:19:02<17:54,  7.44it/s]"
     ]
    },
    {
     "name": "stdout",
     "output_type": "stream",
     "text": [
      "Iteration 92000 Average Loss 10.151871\n"
     ]
    },
    {
     "name": "stderr",
     "output_type": "stream",
     "text": [
      " 94%|█████████▍| 94002/100000 [3:23:42<14:04,  7.10it/s]"
     ]
    },
    {
     "name": "stdout",
     "output_type": "stream",
     "text": [
      "Iteration 94000 Average Loss 9.681695\n"
     ]
    },
    {
     "name": "stderr",
     "output_type": "stream",
     "text": [
      " 96%|█████████▌| 96002/100000 [3:28:23<09:59,  6.67it/s]"
     ]
    },
    {
     "name": "stdout",
     "output_type": "stream",
     "text": [
      "Iteration 96000 Average Loss 9.945853\n"
     ]
    },
    {
     "name": "stderr",
     "output_type": "stream",
     "text": [
      " 98%|█████████▊| 98002/100000 [3:32:57<04:51,  6.84it/s]"
     ]
    },
    {
     "name": "stdout",
     "output_type": "stream",
     "text": [
      "Iteration 98000 Average Loss 8.826054\n"
     ]
    },
    {
     "name": "stderr",
     "output_type": "stream",
     "text": [
      "100%|██████████| 100000/100000 [3:37:31<00:00,  5.72it/s]\n"
     ]
    }
   ],
   "source": [
    "sess = tf.Session()\n",
    "sess.run(tf.global_variables_initializer())\n",
    "\n",
    "offset = 0\n",
    "losses = []\n",
    "for i in tqdm(range(100000)):\n",
    "    if offset + batch_size >= X_train.shape[0]:\n",
    "        offset = (offset + batch_size) % X_train.shape[0]\n",
    "        \n",
    "    X_batch = X_train[offset: offset + batch_size]\n",
    "    Y_batch = Y_train[offset: offset + batch_size]\n",
    "    \n",
    "    _, loss_ = sess.run([optimizer, loss], feed_dict={X: X_batch, Y: Y_batch})\n",
    "    losses.append(loss_)\n",
    "    \n",
    "    if i % 2000 == 0 and i > 0:\n",
    "        print('Iteration %d Average Loss %f' % (i, np.mean(losses)))\n",
    "        losses = []\n",
    "        \n",
    "    if i % 10000 == 0:\n",
    "        sim = sess.run(similarity, feed_dict={valid: valid_examples})\n",
    "        for j in range(valid_size):\n",
    "            valid_word = id2word[valid_examples[j]]\n",
    "            top_k = 5\n",
    "            nearests = (-sim[j, :]).argsort()[1: top_k + 1]\n",
    "            s = 'Nearest to %s:' % valid_word\n",
    "            for k in range(top_k):\n",
    "                s += ' ' + id2word[nearests[k]]\n",
    "            print(s)\n",
    "            \n",
    "    offset += batch_size"
   ]
  },
  {
   "cell_type": "code",
   "execution_count": 17,
   "metadata": {},
   "outputs": [],
   "source": [
    "saver = tf.train.Saver()\n",
    "saver.save(sess , '/home/tf/dl_fun/13_word2Vec/model/tf_128')\n",
    "final_embeddings = sess.run(normalized_embeddings)\n",
    "with open('/home/tf/dl_fun/13_word2Vec/model/tf_128.pkl' ,'wb') as f:\n",
    "    pickle.dump({'embedding':final_embeddings , 'word2id':word2id , 'id2word':id2word} , f, protocol = 4)"
   ]
  },
  {
   "cell_type": "code",
   "execution_count": 18,
   "metadata": {},
   "outputs": [],
   "source": [
    "with open('/home/tf/dl_fun/13_word2Vec/model/tf_128.pkl' , 'rb') as f:\n",
    "    data = pickle.load(f)\n",
    "    final_embeddings = data['embedding']\n",
    "    word2id = data['word2id']\n",
    "    id2word = data['id2word']"
   ]
  },
  {
   "cell_type": "markdown",
   "metadata": {},
   "source": [
    "获取词频较高的前 200 个非单词，并用 TSNE 降维可视化"
   ]
  },
  {
   "cell_type": "code",
   "execution_count": 19,
   "metadata": {},
   "outputs": [],
   "source": [
    "import matplotlib.pyplot as plt\n",
    "from sklearn.manifold import TSNE\n",
    "\n",
    "plot_only = 200\n",
    "word_index = []\n",
    "count = 0\n",
    "\n",
    "for i in range(1, len(id2word)):\n",
    "    if len(id2word[i]) >=2:\n",
    "        word_index.append(i)\n",
    "        count +=1\n",
    "        if count == plot_only:\n",
    "            break"
   ]
  },
  {
   "cell_type": "code",
   "execution_count": 20,
   "metadata": {},
   "outputs": [],
   "source": [
    "tsne = TSNE(perplexity=30, n_components=2, init='pca', n_iter=5000)\n",
    "two_d_embedding = tsne.fit_transform(final_embeddings[word_index ,:])\n",
    "labels = [id2word[i] for i in word_index]"
   ]
  },
  {
   "cell_type": "code",
   "execution_count": 48,
   "metadata": {},
   "outputs": [
    {
     "name": "stderr",
     "output_type": "stream",
     "text": [
      "/home/tf/anaconda3/lib/python3.6/site-packages/matplotlib/font_manager.py:1328: UserWarning: findfont: Font family ['sans-serif'] not found. Falling back to DejaVu Sans\n",
      "  (prop.get_family(), self.defaultFamily[fontext]))\n"
     ]
    },
    {
     "data": {
      "image/png": "[encoded data removed]",
      "text/plain": [
       "<Figure size 1440x1152 with 1 Axes>"
      ]
     },
     "metadata": {},
     "output_type": "display_data"
    }
   ],
   "source": [
    "import json\n",
    "\n",
    "plt.figure(figsize=(20, 16))\n",
    "for i, label in enumerate(labels):\n",
    "    x, y = two_d_embedding[i, :]\n",
    "    plt.scatter(x, y)\n",
    "    plt.annotate(label.encode('utf-8').decode('utf-8'), (x, y), ha='center', va='top')\n",
    "plt.savefig('../output/词向量降维可视化.png')"
   ]
  },
  {
   "cell_type": "code",
   "execution_count": 49,
   "metadata": {},
   "outputs": [
    {
     "name": "stdout",
     "output_type": "stream",
     "text": [
      "/home/tf/dl_fun/13_word2Vec/model\n"
     ]
    }
   ],
   "source": [
    "%pwd\n",
    "%cd /home/tf/dl_fun/13_word2Vec/model/"
   ]
  },
  {
   "cell_type": "code",
   "execution_count": 50,
   "metadata": {},
   "outputs": [
    {
     "name": "stdout",
     "output_type": "stream",
     "text": [
      "INFO:tensorflow:Restoring parameters from /home/tf/dl_fun/13_word2Vec/model/tf_128\n"
     ]
    }
   ],
   "source": [
    "saver = tf.train.import_meta_graph('tf_128.meta')\n",
    "saver.restore(sess, tf.train.latest_checkpoint('.'))\n",
    "graph = tf.get_default_graph()\n",
    "valid = graph.get_tensor_by_name('valid:0')\n",
    "similarity = graph.get_tensor_by_name('MatMul_1:0')"
   ]
  },
  {
   "cell_type": "code",
   "execution_count": 55,
   "metadata": {},
   "outputs": [
    {
     "name": "stdout",
     "output_type": "stream",
     "text": [
      "Nearest to 台湾: 韩国 香港 中国 日本 艺人 由于 美国 UNK 以及 以\n"
     ]
    }
   ],
   "source": [
    "word = '台湾'\n",
    "sim = sess.run(similarity, feed_dict={valid: [word2id[word]]})\n",
    "top_k = 10\n",
    "nearests = (-sim[0, :]).argsort()[1: top_k + 1]\n",
    "s = 'Nearest to %s:' % word\n",
    "for k in range(top_k):\n",
    "    s += ' ' + id2word[nearests[k]]\n",
    "print(s)"
   ]
  },
  {
   "cell_type": "code",
   "execution_count": 56,
   "metadata": {},
   "outputs": [
    {
     "name": "stdout",
     "output_type": "stream",
     "text": [
      "0.69376063\n"
     ]
    }
   ],
   "source": [
    "# 计算相关度\n",
    "def cal_sim(w1, w2):\n",
    "    return np.dot(final_embeddings[word2id[w1]], final_embeddings[word2id[w2]])\n",
    "print(cal_sim('台湾', '香港'))"
   ]
  },
  {
   "cell_type": "code",
   "execution_count": 57,
   "metadata": {},
   "outputs": [
    {
     "name": "stdout",
     "output_type": "stream",
     "text": [
      "['韩国', 0.6960252]\n",
      "['香港', 0.69376063]\n",
      "['中国', 0.67613083]\n",
      "['日本', 0.6654469]\n",
      "['艺人', 0.642709]\n",
      "['由于', 0.6381862]\n",
      "['美国', 0.6368637]\n",
      "['UNK', 0.62663305]\n",
      "['以及', 0.61842746]\n",
      "['以', 0.6181397]\n"
     ]
    }
   ],
   "source": [
    "# 相关词\n",
    "word = '台湾'\n",
    "sim = [[id2word[i], cal_sim(word, id2word[i])] for i in range(len(id2word))]\n",
    "sim.sort(key=lambda x:x[1], reverse=True)\n",
    "top_k = 10\n",
    "for i in range(top_k):\n",
    "    print(sim[i + 1])"
   ]
  },
  {
   "cell_type": "code",
   "execution_count": 58,
   "metadata": {},
   "outputs": [
    {
     "name": "stdout",
     "output_type": "stream",
     "text": [
      "数学\n"
     ]
    }
   ],
   "source": [
    "# 不相关词\n",
    "def find_mismatch(words):\n",
    "    vectors = [final_embeddings[word2id[word]] for word in words]\n",
    "    scores = {word: np.mean([cal_sim(word, w) for w in words]) for word in words}\n",
    "    scores = sorted(scores.items(), key=lambda x:x[1])\n",
    "    return scores[0][0]\n",
    "print(find_mismatch(['台湾', '香港', '中国', '数学']))"
   ]
  },
  {
   "cell_type": "code",
   "execution_count": null,
   "metadata": {},
   "outputs": [],
   "source": []
  }
 ],
 "metadata": {
  "kernelspec": {
   "display_name": "Python 3",
   "language": "python",
   "name": "python3"
  },
  "language_info": {
   "codemirror_mode": {
    "name": "ipython",
    "version": 3
   },
   "file_extension": ".py",
   "mimetype": "text/x-python",
   "name": "python",
   "nbconvert_exporter": "python",
   "pygments_lexer": "ipython3",
   "version": "3.6.5"
  }
 },
 "nbformat": 4,
 "nbformat_minor": 2
}
