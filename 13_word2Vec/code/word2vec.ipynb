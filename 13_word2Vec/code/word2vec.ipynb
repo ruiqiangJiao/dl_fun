{
 "cells": [
  {
   "cell_type": "code",
   "execution_count": 12,
   "metadata": {},
   "outputs": [],
   "source": [
    "# -*- coding= uft-8 -*-"
   ]
  },
  {
   "cell_type": "code",
   "execution_count": 3,
   "metadata": {},
   "outputs": [],
   "source": [
    "from gensim.models import Word2Vec\n",
    "from gensim.models.word2vec import LineSentence\n",
    "import time"
   ]
  },
  {
   "cell_type": "code",
   "execution_count": 4,
   "metadata": {},
   "outputs": [
    {
     "data": {
      "text/plain": [
       "'/home/tf/dl_fun/13_word2Vec/code'"
      ]
     },
     "execution_count": 4,
     "metadata": {},
     "output_type": "execute_result"
    }
   ],
   "source": [
    "%pwd"
   ]
  },
  {
   "cell_type": "code",
   "execution_count": 5,
   "metadata": {},
   "outputs": [
    {
     "name": "stdout",
     "output_type": "stream",
     "text": [
      "training time 2183 second\n"
     ]
    }
   ],
   "source": [
    "t0 = int(time.time())\n",
    "sentences = LineSentence('/home/tf/dl_fun/13_word2Vec/data/wiki.zh.word.text')\n",
    "model = Word2Vec(sentences , window=5,min_count=5,size=128,workers=4)\n",
    "print(\"training time %d second\" % (int(time.time()) - t0))\n",
    "model.save('/home/tf/dl_fun/13_word2Vec/model/gensim_128')"
   ]
  },
  {
   "cell_type": "code",
   "execution_count": 6,
   "metadata": {},
   "outputs": [
    {
     "name": "stdout",
     "output_type": "stream",
     "text": [
      "0 微积分 0.8031467199325562\n",
      "1 算术 0.7872676849365234\n",
      "2 数学分析 0.764679491519928\n",
      "3 概率论 0.761721134185791\n",
      "4 高等数学 0.725527822971344\n",
      "5 数论 0.7169631719589233\n",
      "6 几何学 0.7151964902877808\n",
      "7 物理 0.7127975225448608\n",
      "8 统计学 0.7027322053909302\n",
      "9 逻辑学 0.7017834186553955\n"
     ]
    },
    {
     "name": "stderr",
     "output_type": "stream",
     "text": [
      "/home/tf/anaconda3/lib/python3.6/site-packages/gensim/matutils.py:737: FutureWarning: Conversion of the second argument of issubdtype from `int` to `np.signedinteger` is deprecated. In future, it will be treated as `np.int64 == np.dtype(int).type`.\n",
      "  if np.issubdtype(vec.dtype, np.int):\n"
     ]
    }
   ],
   "source": [
    "model = Word2Vec.load('/home/tf/dl_fun/13_word2Vec/model/gensim_128')\n",
    "items  = model.wv.most_similar('数学')\n",
    "for i ,item in enumerate(items):\n",
    "    print(i , item[0] , item[1])"
   ]
  },
  {
   "cell_type": "code",
   "execution_count": 8,
   "metadata": {},
   "outputs": [
    {
     "name": "stdout",
     "output_type": "stream",
     "text": [
      "0 美国 0.7446852922439575\n",
      "1 旧金山 0.6310752630233765\n",
      "2 芝加哥 0.5918499827384949\n",
      "3 纽约市 0.5771065950393677\n",
      "4 英国 0.5764555335044861\n",
      "5 华尔街 0.5642508268356323\n",
      "6 洛杉矶 0.5606274008750916\n",
      "7 美洲 0.5601431131362915\n",
      "8 新英格兰 0.5509783625602722\n",
      "9 北美 0.5496352910995483\n"
     ]
    },
    {
     "name": "stderr",
     "output_type": "stream",
     "text": [
      "/home/tf/anaconda3/lib/python3.6/site-packages/gensim/matutils.py:737: FutureWarning: Conversion of the second argument of issubdtype from `int` to `np.signedinteger` is deprecated. In future, it will be treated as `np.int64 == np.dtype(int).type`.\n",
      "  if np.issubdtype(vec.dtype, np.int):\n"
     ]
    }
   ],
   "source": [
    "items  = model.wv.most_similar(positive=['纽约', '中国'], negative=['北京'])\n",
    "for i ,item in enumerate(items):\n",
    "    print(i , item[0] , item[1])"
   ]
  },
  {
   "cell_type": "code",
   "execution_count": 9,
   "metadata": {},
   "outputs": [
    {
     "name": "stdout",
     "output_type": "stream",
     "text": [
      "手机\n"
     ]
    },
    {
     "name": "stderr",
     "output_type": "stream",
     "text": [
      "/home/tf/anaconda3/lib/python3.6/site-packages/gensim/matutils.py:737: FutureWarning: Conversion of the second argument of issubdtype from `int` to `np.signedinteger` is deprecated. In future, it will be treated as `np.int64 == np.dtype(int).type`.\n",
      "  if np.issubdtype(vec.dtype, np.int):\n"
     ]
    }
   ],
   "source": [
    "print(model.wv.doesnt_match(['早餐', '午餐', '晚餐', '手机']))"
   ]
  },
  {
   "cell_type": "code",
   "execution_count": 10,
   "metadata": {},
   "outputs": [
    {
     "name": "stdout",
     "output_type": "stream",
     "text": [
      "0.88677835\n"
     ]
    },
    {
     "name": "stderr",
     "output_type": "stream",
     "text": [
      "/home/tf/anaconda3/lib/python3.6/site-packages/gensim/matutils.py:737: FutureWarning: Conversion of the second argument of issubdtype from `int` to `np.signedinteger` is deprecated. In future, it will be treated as `np.int64 == np.dtype(int).type`.\n",
      "  if np.issubdtype(vec.dtype, np.int):\n"
     ]
    }
   ],
   "source": [
    "print(model.wv.similarity('男人', '女人'))"
   ]
  }
 ],
 "metadata": {
  "kernelspec": {
   "display_name": "Python 3",
   "language": "python",
   "name": "python3"
  },
  "language_info": {
   "codemirror_mode": {
    "name": "ipython",
    "version": 3
   },
   "file_extension": ".py",
   "mimetype": "text/x-python",
   "name": "python",
   "nbconvert_exporter": "python",
   "pygments_lexer": "ipython3",
   "version": "3.6.5"
  }
 },
 "nbformat": 4,
 "nbformat_minor": 2
}
